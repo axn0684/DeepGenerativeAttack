{
  "cells": [
    {
      "cell_type": "code",
      "execution_count": null,
      "metadata": {
        "id": "hr5Jz8gn4NLh"
      },
      "outputs": [],
      "source": [
        "import cv2                 # working with, mainly resizing, images\n",
        "import numpy as np         # dealing with arrays\n",
        "import os                  # dealing with directories\n",
        "from random import shuffle # mixing up or currently ordered data that might lead our network astray in training.\n",
        "#from tqdm import tqdm\n",
        "import numpy as np\n",
        "from keras.utils import to_categorical\n",
        "from keras.models import Sequential, Model, load_model\n",
        "from keras import applications\n",
        "from keras import optimizers\n",
        "from keras.layers import Dropout, Flatten, Dense\n",
        "import tensorflow as tf\n",
        "import matplotlib.pyplot as plt\n",
        "import sklearn\n",
        "from sklearn import metrics"
      ]
    },
    {
      "cell_type": "code",
      "execution_count": null,
      "metadata": {
        "colab": {
          "base_uri": "https://localhost:8080/"
        },
        "id": "E1elVm7Z3oV7",
        "outputId": "0aa6b81f-24ae-425b-f5bb-fec3ff0f8374"
      },
      "outputs": [
        {
          "output_type": "stream",
          "name": "stdout",
          "text": [
            "Mounted at /content/drive\n"
          ]
        }
      ],
      "source": [
        "from google.colab import drive\n",
        "drive.mount('/content/drive', force_remount=True)"
      ]
    },
    {
      "cell_type": "code",
      "execution_count": null,
      "metadata": {
        "id": "5JMdGGEb3n1m"
      },
      "outputs": [],
      "source": [
        "train_real_path=\"data/CEDAR_genuine.npy\"\n",
        "train_fake_path=\"data/CEDAR_forg.npy\"\n",
        "syn_fake_path= \"data/cgan_CEDAR_forg.npy\"\n",
        "fake_sample=24\n",
        "real_sample=24\n",
        "no_contrib=55"
      ]
    },
    {
      "cell_type": "code",
      "execution_count": null,
      "metadata": {
        "id": "9acuxyC04lVK"
      },
      "outputs": [],
      "source": [
        "def init_model():\n",
        "  with tf.device('/device:GPU:0'):\n",
        "    base_model = applications.DenseNet201(weights='imagenet', include_top=False, input_shape=(224, 224, 3))\n",
        "    for layer in base_model.layers: #make the layers untrainable to get only the embeddings from the model output\n",
        "      layer.trainable = False\n",
        "\n",
        "    add_model = Sequential()\n",
        "    add_model.add(Flatten(input_shape=base_model.output_shape[1:]))\n",
        "    add_model.add(Dense(256, activation='relu'))\n",
        "    add_model.add(Dense(2, activation='sigmoid'))\n",
        "    model = Model(inputs=base_model.input, outputs=add_model(base_model.output))\n",
        "    model.compile(loss='binary_crossentropy', optimizer=optimizers.SGD(lr=1e-4, momentum=0.9),\n",
        "              metrics=['accuracy'])\n",
        "    return model"
      ]
    },
    {
      "cell_type": "code",
      "execution_count": null,
      "metadata": {
        "id": "-A1ZSPB-MOFz"
      },
      "outputs": [],
      "source": [
        "with open(train_fake_path, 'rb') as f:\n",
        "    fake=np.load(f)\n",
        "with open(train_real_path, 'rb') as f:\n",
        "    real=np.load(f)\n",
        "with open(syn_fake_path, 'rb') as f:\n",
        "      syn_fake=np.load(f)"
      ]
    },
    {
      "cell_type": "code",
      "execution_count": null,
      "metadata": {
        "id": "OfzlxNc-3qzT"
      },
      "outputs": [],
      "source": [
        "def data_generate(index):\n",
        "  train_features = []\n",
        "  train_labels = []\n",
        "  test_features = []\n",
        "  test_labels = []\n",
        "  skil_features = []\n",
        "  skil_labels = []\n",
        "  syn_fake_features = []\n",
        "  syn_fake_labels = []\n",
        "  syn_skil_features = []\n",
        "  syn_skil_labels = []\n",
        "  #labels for train real\n",
        "  for j in range (0,real_sample * 2 // 3):\n",
        "      train_features.append(real[index*real_sample+j])\n",
        "      train_labels.append(1)\n",
        "  #labels for train fake\n",
        "  for j in range (0,fake_sample * 2 // 3):\n",
        "      train_features.append(fake[index*fake_sample+j])\n",
        "      train_labels.append(0)\n",
        "  #labels for generated data\n",
        "  for i in range(fake_sample * 2 // 3):\n",
        "      train_features.append(syn_fake[index*fake_sample*9+i*9+1])\n",
        "      train_labels.append(0)\n",
        "  #labels for test real\n",
        "  for j in range (real_sample * 2 // 3,real_sample) :\n",
        "      test_features.append(real[index*real_sample+j])\n",
        "      test_labels.append(1)\n",
        "  #labels for test fake\n",
        "  for j in range (fake_sample * 2 // 3,fake_sample) :\n",
        "      test_features.append(fake[index*fake_sample+j])\n",
        "      test_labels.append(0)\n",
        "  for i in range(fake_sample * 2 // 3,fake_sample):\n",
        "      for j in range(9):\n",
        "        syn_fake_features.append(syn_fake[index*fake_sample*9+i*9+j])\n",
        "        syn_fake_labels.append(0)\n",
        "  #labels for test syn real\n",
        "  train_features = np.asarray(train_features).astype('float32')\n",
        "  test_features = np.asarray(test_features).astype('float32')\n",
        "  syn_fake_features = np.asarray(syn_fake_features).astype('float32')\n",
        "  train_features = train_features/ 255.\n",
        "  test_features = test_features / 255.\n",
        "  syn_fake_features = syn_fake_features /255.\n",
        "  train_labels = np.array(train_labels)\n",
        "  test_labels = np.array(test_labels)\n",
        "  syn_fake_labels = np.array(syn_fake_labels)\n",
        "  train_labels = to_categorical(train_labels)\n",
        "  return train_features,train_labels,test_features,test_labels,syn_fake_features,syn_fake_labels"
      ]
    },
    {
      "cell_type": "code",
      "execution_count": null,
      "metadata": {
        "id": "_0NBAEGXvSn6"
      },
      "outputs": [],
      "source": [
        "def make_prediction(data,model):\n",
        "  tp = model.predict(data)\n",
        "  output=[]\n",
        "  for i in tp:\n",
        "    output.append(i[1])\n",
        "  return output"
      ]
    },
    {
      "cell_type": "code",
      "execution_count": null,
      "metadata": {
        "id": "5USNkaY_Ia6W"
      },
      "outputs": [],
      "source": [
        "def acc(data,labels):\n",
        "  output =[]\n",
        "  for i in data:\n",
        "    if i>=0.5:\n",
        "      output.append(1)\n",
        "    else:\n",
        "      output.append(0)\n",
        "  return sklearn.metrics.accuracy_score(output,labels)"
      ]
    },
    {
      "cell_type": "code",
      "execution_count": null,
      "metadata": {
        "id": "fGSwqo76Jke8"
      },
      "outputs": [],
      "source": [
        "def far_frr_cal(data,compare): #function to calculate FAR and FRR based on 10 thresholds from 0 to 1\n",
        "  real = 0\n",
        "  fake = 0\n",
        "  frr = []\n",
        "  far =[]\n",
        "  for i in range (11):\n",
        "    frr.append(0)\n",
        "    far.append(0)\n",
        "  for i in range (len(data)):\n",
        "    if compare[i]==1:\n",
        "      real+=1\n",
        "    else:\n",
        "      fake+=1\n",
        "  for i in range (len(data)):\n",
        "    for j in range(11):\n",
        "      tp = 1\n",
        "      if data[i] <= j*0.1:\n",
        "        tp = 0\n",
        "      if tp!=compare[i]:\n",
        "        if compare[i]==0:\n",
        "          far[j]+=1\n",
        "        else:\n",
        "          frr[j]+=1\n",
        "  for i in range (11):\n",
        "    frr[i]/=real/100\n",
        "    far[i]/=fake/100\n",
        "  return [far,frr]\n",
        "\n",
        "def far_cal(data,compare):\n",
        "  far =[]\n",
        "  for i in range (11):\n",
        "    far.append(0)\n",
        "  for i in range (len(data)):\n",
        "    for j in range(11):\n",
        "      tp = 1\n",
        "      if data[i] <= j*0.1:\n",
        "        tp = 0\n",
        "      if tp==1:\n",
        "        far[j]+=1\n",
        "  for i in range (11):\n",
        "    far[i]/=len(data)/100\n",
        "  return far\n",
        "\n"
      ]
    },
    {
      "cell_type": "code",
      "execution_count": null,
      "metadata": {
        "id": "6bLEPxUCUG7P"
      },
      "outputs": [],
      "source": [
        "def evaluate_person(index):\n",
        "  y_test = []\n",
        "  y_label = []\n",
        "  train_features,train_labels,test_features,test_labels,syn_fake_features,syn_fake_labels = data_generate(index)\n",
        "  batch_size = 32\n",
        "  epochs = 100\n",
        "  model = init_model()\n",
        "  history = model.fit(train_features, train_labels, batch_size=batch_size,epochs=epochs,verbose=1)\n",
        "  human_test = make_prediction(test_features,model)\n",
        "  syn_fake_test = make_prediction(syn_fake_features,model)\n",
        "  y_test.extend(human_test)\n",
        "  y_test.extend(syn_fake_test)\n",
        "\n",
        "  y_label.extend(test_labels)\n",
        "  y_label.extend(syn_fake_labels)\n",
        "  return acc(human_test,test_labels), acc(syn_fake_test,syn_fake_labels),far_frr_cal(human_test,test_labels),far_cal(syn_fake_test ,syn_fake_labels),human_test,test_labels, y_test, y_label"
      ]
    },
    {
      "cell_type": "code",
      "source": [
        "y_test = []\n",
        "y_label = []\n",
        "human_test = []\n",
        "human_label = []"
      ],
      "metadata": {
        "id": "BibHEejS7bnJ"
      },
      "execution_count": null,
      "outputs": []
    },
    {
      "cell_type": "code",
      "execution_count": null,
      "metadata": {
        "id": "9Fi-FeL3YVuo"
      },
      "outputs": [],
      "source": [
        "human_frr = []\n",
        "for i in range (11):\n",
        "  human_frr.append(0)\n",
        "human_far = []\n",
        "for i in range (11):\n",
        "  human_far.append(0)\n",
        "syn_real_far = []\n",
        "for i in range (11):\n",
        "  syn_real_far.append(0)\n",
        "syn_fake_far = []\n",
        "for i in range (11):\n",
        "  syn_fake_far.append(0)\n",
        "human_test = []\n",
        "human_label = []\n",
        "with open(result_path,'w') as f:\n",
        "  writer = csv.writer(f)\n",
        "  writer.writerow([\"human_far\",\"human_frr\", \"synt_fake_far\"])\n",
        "  for i in range (no_contrib):\n",
        "    print('----------- evaluating person '+str(i+1)+'--------------')\n",
        "    a,b,x,z, humantest, humanlabel, ytest, ylabel = evaluate_person(i)\n",
        "    print(x[0][5],x[1][5],z[5])\n",
        "  f.close()"
      ]
    }
  ],
  "metadata": {
    "accelerator": "GPU",
    "colab": {
      "provenance": []
    },
    "gpuClass": "standard",
    "kernelspec": {
      "display_name": "Python 3",
      "name": "python3"
    },
    "language_info": {
      "name": "python"
    }
  },
  "nbformat": 4,
  "nbformat_minor": 0
}